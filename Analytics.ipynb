{
    "cells": [
        {
            "cell_type": "code",
            "execution_count": 2,
            "metadata": {},
            "outputs": [
                {
                    "name": "stdout",
                    "output_type": "stream",
                    "text": "+-------+-----------+-----------+------------+----------+--------------------+---------+-------------------+-----------+---------------------+---------------+\n|  Index|Destination| Start Date|    End Date|Promoter %|Change in Promoter %|Passive %|Change in Passive %|Detractor %|Change in Detractor %|Sentiment Score|\n+-------+-----------+-----------+------------+----------+--------------------+---------+-------------------+-----------+---------------------+---------------+\n|Tourism|   Barbados|Jul 1, 2022|Jul 31, 2022|       34%|                  4%|      62%|                 3%|         4%|                   1%|             30|\n|Tourism|      Aruba|Jul 1, 2022|Jul 31, 2022|       30%|                  4%|      66%|                 5%|         3%|                   0%|             27|\n+-------+-----------+-----------+------------+----------+--------------------+---------+-------------------+-----------+---------------------+---------------+\n\n"
                },
                {
                    "data": {
                        "text/plain": "configurationName = os_d7bee8626b28455ab8f467dfdae113a7_configs\ncos = com.ibm.ibmos2spark.CloudObjectStorage@c9da62db\nspark = org.apache.spark.sql.SparkSession@d1f3c75e\ndfData1 = [Index: string, Destination: string ... 9 more fields]\n"
                    },
                    "metadata": {},
                    "output_type": "display_data"
                },
                {
                    "data": {
                        "text/plain": "getCredentials: ()scala.collection.mutable.HashMap[String,String]\n"
                    },
                    "metadata": {},
                    "output_type": "display_data"
                },
                {
                    "data": {
                        "text/plain": "[Index: string, Destination: string ... 9 more fields]"
                    },
                    "execution_count": 2,
                    "metadata": {},
                    "output_type": "execute_result"
                }
            ],
            "source": "// The code was removed by Watson Studio for sharing."
        },
        {
            "cell_type": "code",
            "execution_count": null,
            "metadata": {},
            "outputs": [],
            "source": ""
        },
        {
            "cell_type": "code",
            "execution_count": null,
            "metadata": {},
            "outputs": [],
            "source": ""
        },
        {
            "cell_type": "code",
            "execution_count": 4,
            "metadata": {},
            "outputs": [
                {
                    "name": "stdout",
                    "output_type": "stream",
                    "text": "+-------+-----------+-----------+------------+----------+--------------------+---------+-------------------+-----------+---------------------+---------------+\n|  Index|Destination| Start Date|    End Date|Promoter %|Change in Promoter %|Passive %|Change in Passive %|Detractor %|Change in Detractor %|Sentiment Score|\n+-------+-----------+-----------+------------+----------+--------------------+---------+-------------------+-----------+---------------------+---------------+\n|Tourism|   Barbados|Jul 1, 2022|Jul 31, 2022|       34%|                  4%|      62%|                 3%|         4%|                   1%|             30|\n|Tourism|      Aruba|Jul 1, 2022|Jul 31, 2022|       30%|                  4%|      66%|                 5%|         3%|                   0%|             27|\n+-------+-----------+-----------+------------+----------+--------------------+---------+-------------------+-----------+---------------------+---------------+\n\n"
                },
                {
                    "data": {
                        "text/plain": "dfData2 = [Index: string, Destination: string ... 9 more fields]\n"
                    },
                    "metadata": {},
                    "output_type": "display_data"
                },
                {
                    "data": {
                        "text/plain": "[Index: string, Destination: string ... 9 more fields]"
                    },
                    "execution_count": 4,
                    "metadata": {},
                    "output_type": "execute_result"
                }
            ],
            "source": "\nval dfData2 = spark.\n    read.format(\"org.apache.spark.sql.execution.datasources.csv.CSVFileFormat\").\n    option(\"header\", \"true\").\n    option(\"inferSchema\", \"true\").\n    load(cos.url(\"analytics-donotdelete-pr-etedu6mx7lwgqp\", \"Sentiment_Scores_Table.csv\"))\ndfData2.show(5)\n"
        },
        {
            "cell_type": "code",
            "execution_count": null,
            "metadata": {},
            "outputs": [],
            "source": ""
        }
    ],
    "metadata": {
        "kernelspec": {
            "display_name": "Python 3.10",
            "language": "python",
            "name": "python3"
        },
        "language_info": {
            "codemirror_mode": {
                "name": "ipython",
                "version": 3
            },
            "file_extension": ".py",
            "mimetype": "text/x-python",
            "name": "python",
            "nbconvert_exporter": "python",
            "pygments_lexer": "ipython3",
            "version": "3.10.6"
        }
    },
    "nbformat": 4,
    "nbformat_minor": 1
}